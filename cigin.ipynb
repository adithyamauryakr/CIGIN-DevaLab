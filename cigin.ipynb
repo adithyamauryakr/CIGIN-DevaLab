{
  "cells": [
    {
      "cell_type": "code",
      "source": [
        "!pip install rdkit\n",
        "!pip install  dgl -f https://data.dgl.ai/wheels/torch-2.4/cu124/repo.html"
      ],
      "metadata": {
        "colab": {
          "base_uri": "https://localhost:8080/"
        },
        "id": "pP9gy0bE0-P5",
        "outputId": "179bc182-2ace-43b9-8e09-e1c083585cdf"
      },
      "execution_count": 1,
      "outputs": [
        {
          "output_type": "stream",
          "name": "stdout",
          "text": [
            "Collecting rdkit\n",
            "  Downloading rdkit-2025.3.2-cp311-cp311-manylinux_2_28_x86_64.whl.metadata (4.0 kB)\n",
            "Requirement already satisfied: numpy in /usr/local/lib/python3.11/dist-packages (from rdkit) (2.0.2)\n",
            "Requirement already satisfied: Pillow in /usr/local/lib/python3.11/dist-packages (from rdkit) (11.2.1)\n",
            "Downloading rdkit-2025.3.2-cp311-cp311-manylinux_2_28_x86_64.whl (35.2 MB)\n",
            "\u001b[2K   \u001b[90m━━━━━━━━━━━━━━━━━━━━━━━━━━━━━━━━━━━━━━━━\u001b[0m \u001b[32m35.2/35.2 MB\u001b[0m \u001b[31m14.7 MB/s\u001b[0m eta \u001b[36m0:00:00\u001b[0m\n",
            "\u001b[?25hInstalling collected packages: rdkit\n",
            "Successfully installed rdkit-2025.3.2\n",
            "Looking in links: https://data.dgl.ai/wheels/torch-2.4/cu124/repo.html\n",
            "Collecting dgl\n",
            "  Downloading https://data.dgl.ai/wheels/torch-2.4/cu124/dgl-2.4.0%2Bcu124-cp311-cp311-manylinux1_x86_64.whl (347.8 MB)\n",
            "\u001b[2K     \u001b[90m━━━━━━━━━━━━━━━━━━━━━━━━━━━━━━━━━━━━━━━\u001b[0m \u001b[32m347.8/347.8 MB\u001b[0m \u001b[31m4.6 MB/s\u001b[0m eta \u001b[36m0:00:00\u001b[0m\n",
            "\u001b[?25hRequirement already satisfied: networkx>=2.1 in /usr/local/lib/python3.11/dist-packages (from dgl) (3.5)\n",
            "Requirement already satisfied: numpy>=1.14.0 in /usr/local/lib/python3.11/dist-packages (from dgl) (2.0.2)\n",
            "Requirement already satisfied: packaging in /usr/local/lib/python3.11/dist-packages (from dgl) (24.2)\n",
            "Requirement already satisfied: pandas in /usr/local/lib/python3.11/dist-packages (from dgl) (2.2.2)\n",
            "Requirement already satisfied: psutil>=5.8.0 in /usr/local/lib/python3.11/dist-packages (from dgl) (5.9.5)\n",
            "Requirement already satisfied: pydantic>=2.0 in /usr/local/lib/python3.11/dist-packages (from dgl) (2.11.5)\n",
            "Requirement already satisfied: pyyaml in /usr/local/lib/python3.11/dist-packages (from dgl) (6.0.2)\n",
            "Requirement already satisfied: requests>=2.19.0 in /usr/local/lib/python3.11/dist-packages (from dgl) (2.32.3)\n",
            "Requirement already satisfied: scipy>=1.1.0 in /usr/local/lib/python3.11/dist-packages (from dgl) (1.15.3)\n",
            "Requirement already satisfied: tqdm in /usr/local/lib/python3.11/dist-packages (from dgl) (4.67.1)\n",
            "Collecting torch<=2.4.0 (from dgl)\n",
            "  Downloading torch-2.4.0-cp311-cp311-manylinux1_x86_64.whl.metadata (26 kB)\n",
            "Requirement already satisfied: annotated-types>=0.6.0 in /usr/local/lib/python3.11/dist-packages (from pydantic>=2.0->dgl) (0.7.0)\n",
            "Requirement already satisfied: pydantic-core==2.33.2 in /usr/local/lib/python3.11/dist-packages (from pydantic>=2.0->dgl) (2.33.2)\n",
            "Requirement already satisfied: typing-extensions>=4.12.2 in /usr/local/lib/python3.11/dist-packages (from pydantic>=2.0->dgl) (4.13.2)\n",
            "Requirement already satisfied: typing-inspection>=0.4.0 in /usr/local/lib/python3.11/dist-packages (from pydantic>=2.0->dgl) (0.4.1)\n",
            "Requirement already satisfied: charset-normalizer<4,>=2 in /usr/local/lib/python3.11/dist-packages (from requests>=2.19.0->dgl) (3.4.2)\n",
            "Requirement already satisfied: idna<4,>=2.5 in /usr/local/lib/python3.11/dist-packages (from requests>=2.19.0->dgl) (3.10)\n",
            "Requirement already satisfied: urllib3<3,>=1.21.1 in /usr/local/lib/python3.11/dist-packages (from requests>=2.19.0->dgl) (2.4.0)\n",
            "Requirement already satisfied: certifi>=2017.4.17 in /usr/local/lib/python3.11/dist-packages (from requests>=2.19.0->dgl) (2025.4.26)\n",
            "Requirement already satisfied: filelock in /usr/local/lib/python3.11/dist-packages (from torch<=2.4.0->dgl) (3.18.0)\n",
            "Requirement already satisfied: sympy in /usr/local/lib/python3.11/dist-packages (from torch<=2.4.0->dgl) (1.13.1)\n",
            "Requirement already satisfied: jinja2 in /usr/local/lib/python3.11/dist-packages (from torch<=2.4.0->dgl) (3.1.6)\n",
            "Requirement already satisfied: fsspec in /usr/local/lib/python3.11/dist-packages (from torch<=2.4.0->dgl) (2025.3.2)\n",
            "Collecting nvidia-cuda-nvrtc-cu12==12.1.105 (from torch<=2.4.0->dgl)\n",
            "  Downloading nvidia_cuda_nvrtc_cu12-12.1.105-py3-none-manylinux1_x86_64.whl.metadata (1.5 kB)\n",
            "Collecting nvidia-cuda-runtime-cu12==12.1.105 (from torch<=2.4.0->dgl)\n",
            "  Downloading nvidia_cuda_runtime_cu12-12.1.105-py3-none-manylinux1_x86_64.whl.metadata (1.5 kB)\n",
            "Collecting nvidia-cuda-cupti-cu12==12.1.105 (from torch<=2.4.0->dgl)\n",
            "  Downloading nvidia_cuda_cupti_cu12-12.1.105-py3-none-manylinux1_x86_64.whl.metadata (1.6 kB)\n",
            "Collecting nvidia-cudnn-cu12==9.1.0.70 (from torch<=2.4.0->dgl)\n",
            "  Downloading nvidia_cudnn_cu12-9.1.0.70-py3-none-manylinux2014_x86_64.whl.metadata (1.6 kB)\n",
            "Collecting nvidia-cublas-cu12==12.1.3.1 (from torch<=2.4.0->dgl)\n",
            "  Downloading nvidia_cublas_cu12-12.1.3.1-py3-none-manylinux1_x86_64.whl.metadata (1.5 kB)\n",
            "Collecting nvidia-cufft-cu12==11.0.2.54 (from torch<=2.4.0->dgl)\n",
            "  Downloading nvidia_cufft_cu12-11.0.2.54-py3-none-manylinux1_x86_64.whl.metadata (1.5 kB)\n",
            "Collecting nvidia-curand-cu12==10.3.2.106 (from torch<=2.4.0->dgl)\n",
            "  Downloading nvidia_curand_cu12-10.3.2.106-py3-none-manylinux1_x86_64.whl.metadata (1.5 kB)\n",
            "Collecting nvidia-cusolver-cu12==11.4.5.107 (from torch<=2.4.0->dgl)\n",
            "  Downloading nvidia_cusolver_cu12-11.4.5.107-py3-none-manylinux1_x86_64.whl.metadata (1.6 kB)\n",
            "Collecting nvidia-cusparse-cu12==12.1.0.106 (from torch<=2.4.0->dgl)\n",
            "  Downloading nvidia_cusparse_cu12-12.1.0.106-py3-none-manylinux1_x86_64.whl.metadata (1.6 kB)\n",
            "Collecting nvidia-nccl-cu12==2.20.5 (from torch<=2.4.0->dgl)\n",
            "  Downloading nvidia_nccl_cu12-2.20.5-py3-none-manylinux2014_x86_64.whl.metadata (1.8 kB)\n",
            "Collecting nvidia-nvtx-cu12==12.1.105 (from torch<=2.4.0->dgl)\n",
            "  Downloading nvidia_nvtx_cu12-12.1.105-py3-none-manylinux1_x86_64.whl.metadata (1.7 kB)\n",
            "Collecting triton==3.0.0 (from torch<=2.4.0->dgl)\n",
            "  Downloading triton-3.0.0-1-cp311-cp311-manylinux2014_x86_64.manylinux_2_17_x86_64.whl.metadata (1.3 kB)\n",
            "Requirement already satisfied: nvidia-nvjitlink-cu12 in /usr/local/lib/python3.11/dist-packages (from nvidia-cusolver-cu12==11.4.5.107->torch<=2.4.0->dgl) (12.5.82)\n",
            "Requirement already satisfied: python-dateutil>=2.8.2 in /usr/local/lib/python3.11/dist-packages (from pandas->dgl) (2.9.0.post0)\n",
            "Requirement already satisfied: pytz>=2020.1 in /usr/local/lib/python3.11/dist-packages (from pandas->dgl) (2025.2)\n",
            "Requirement already satisfied: tzdata>=2022.7 in /usr/local/lib/python3.11/dist-packages (from pandas->dgl) (2025.2)\n",
            "Requirement already satisfied: six>=1.5 in /usr/local/lib/python3.11/dist-packages (from python-dateutil>=2.8.2->pandas->dgl) (1.17.0)\n",
            "Requirement already satisfied: MarkupSafe>=2.0 in /usr/local/lib/python3.11/dist-packages (from jinja2->torch<=2.4.0->dgl) (3.0.2)\n",
            "Requirement already satisfied: mpmath<1.4,>=1.1.0 in /usr/local/lib/python3.11/dist-packages (from sympy->torch<=2.4.0->dgl) (1.3.0)\n",
            "Downloading torch-2.4.0-cp311-cp311-manylinux1_x86_64.whl (797.3 MB)\n",
            "\u001b[2K   \u001b[90m━━━━━━━━━━━━━━━━━━━━━━━━━━━━━━━━━━━━━━━━\u001b[0m \u001b[32m797.3/797.3 MB\u001b[0m \u001b[31m2.3 MB/s\u001b[0m eta \u001b[36m0:00:00\u001b[0m\n",
            "\u001b[?25hDownloading nvidia_cublas_cu12-12.1.3.1-py3-none-manylinux1_x86_64.whl (410.6 MB)\n",
            "\u001b[2K   \u001b[90m━━━━━━━━━━━━━━━━━━━━━━━━━━━━━━━━━━━━━━━━\u001b[0m \u001b[32m410.6/410.6 MB\u001b[0m \u001b[31m3.4 MB/s\u001b[0m eta \u001b[36m0:00:00\u001b[0m\n",
            "\u001b[?25hDownloading nvidia_cuda_cupti_cu12-12.1.105-py3-none-manylinux1_x86_64.whl (14.1 MB)\n",
            "\u001b[2K   \u001b[90m━━━━━━━━━━━━━━━━━━━━━━━━━━━━━━━━━━━━━━━━\u001b[0m \u001b[32m14.1/14.1 MB\u001b[0m \u001b[31m48.0 MB/s\u001b[0m eta \u001b[36m0:00:00\u001b[0m\n",
            "\u001b[?25hDownloading nvidia_cuda_nvrtc_cu12-12.1.105-py3-none-manylinux1_x86_64.whl (23.7 MB)\n",
            "\u001b[2K   \u001b[90m━━━━━━━━━━━━━━━━━━━━━━━━━━━━━━━━━━━━━━━━\u001b[0m \u001b[32m23.7/23.7 MB\u001b[0m \u001b[31m45.0 MB/s\u001b[0m eta \u001b[36m0:00:00\u001b[0m\n",
            "\u001b[?25hDownloading nvidia_cuda_runtime_cu12-12.1.105-py3-none-manylinux1_x86_64.whl (823 kB)\n",
            "\u001b[2K   \u001b[90m━━━━━━━━━━━━━━━━━━━━━━━━━━━━━━━━━━━━━━━━\u001b[0m \u001b[32m823.6/823.6 kB\u001b[0m \u001b[31m32.0 MB/s\u001b[0m eta \u001b[36m0:00:00\u001b[0m\n",
            "\u001b[?25hDownloading nvidia_cudnn_cu12-9.1.0.70-py3-none-manylinux2014_x86_64.whl (664.8 MB)\n",
            "\u001b[2K   \u001b[90m━━━━━━━━━━━━━━━━━━━━━━━━━━━━━━━━━━━━━━━\u001b[0m \u001b[32m664.8/664.8 MB\u001b[0m \u001b[31m725.6 kB/s\u001b[0m eta \u001b[36m0:00:00\u001b[0m\n",
            "\u001b[?25hDownloading nvidia_cufft_cu12-11.0.2.54-py3-none-manylinux1_x86_64.whl (121.6 MB)\n",
            "\u001b[2K   \u001b[90m━━━━━━━━━━━━━━━━━━━━━━━━━━━━━━━━━━━━━━━━\u001b[0m \u001b[32m121.6/121.6 MB\u001b[0m \u001b[31m7.5 MB/s\u001b[0m eta \u001b[36m0:00:00\u001b[0m\n",
            "\u001b[?25hDownloading nvidia_curand_cu12-10.3.2.106-py3-none-manylinux1_x86_64.whl (56.5 MB)\n",
            "\u001b[2K   \u001b[90m━━━━━━━━━━━━━━━━━━━━━━━━━━━━━━━━━━━━━━━━\u001b[0m \u001b[32m56.5/56.5 MB\u001b[0m \u001b[31m10.6 MB/s\u001b[0m eta \u001b[36m0:00:00\u001b[0m\n",
            "\u001b[?25hDownloading nvidia_cusolver_cu12-11.4.5.107-py3-none-manylinux1_x86_64.whl (124.2 MB)\n",
            "\u001b[2K   \u001b[90m━━━━━━━━━━━━━━━━━━━━━━━━━━━━━━━━━━━━━━━━\u001b[0m \u001b[32m124.2/124.2 MB\u001b[0m \u001b[31m7.1 MB/s\u001b[0m eta \u001b[36m0:00:00\u001b[0m\n",
            "\u001b[?25hDownloading nvidia_cusparse_cu12-12.1.0.106-py3-none-manylinux1_x86_64.whl (196.0 MB)\n",
            "\u001b[2K   \u001b[90m━━━━━━━━━━━━━━━━━━━━━━━━━━━━━━━━━━━━━━━━\u001b[0m \u001b[32m196.0/196.0 MB\u001b[0m \u001b[31m6.9 MB/s\u001b[0m eta \u001b[36m0:00:00\u001b[0m\n",
            "\u001b[?25hDownloading nvidia_nccl_cu12-2.20.5-py3-none-manylinux2014_x86_64.whl (176.2 MB)\n",
            "\u001b[2K   \u001b[90m━━━━━━━━━━━━━━━━━━━━━━━━━━━━━━━━━━━━━━━━\u001b[0m \u001b[32m176.2/176.2 MB\u001b[0m \u001b[31m6.7 MB/s\u001b[0m eta \u001b[36m0:00:00\u001b[0m\n",
            "\u001b[?25hDownloading nvidia_nvtx_cu12-12.1.105-py3-none-manylinux1_x86_64.whl (99 kB)\n",
            "\u001b[2K   \u001b[90m━━━━━━━━━━━━━━━━━━━━━━━━━━━━━━━━━━━━━━━━\u001b[0m \u001b[32m99.1/99.1 kB\u001b[0m \u001b[31m5.3 MB/s\u001b[0m eta \u001b[36m0:00:00\u001b[0m\n",
            "\u001b[?25hDownloading triton-3.0.0-1-cp311-cp311-manylinux2014_x86_64.manylinux_2_17_x86_64.whl (209.4 MB)\n",
            "\u001b[2K   \u001b[90m━━━━━━━━━━━━━━━━━━━━━━━━━━━━━━━━━━━━━━━━\u001b[0m \u001b[32m209.4/209.4 MB\u001b[0m \u001b[31m7.8 MB/s\u001b[0m eta \u001b[36m0:00:00\u001b[0m\n",
            "\u001b[?25hInstalling collected packages: triton, nvidia-nvtx-cu12, nvidia-nccl-cu12, nvidia-cusparse-cu12, nvidia-curand-cu12, nvidia-cufft-cu12, nvidia-cuda-runtime-cu12, nvidia-cuda-nvrtc-cu12, nvidia-cuda-cupti-cu12, nvidia-cublas-cu12, nvidia-cusolver-cu12, nvidia-cudnn-cu12, torch, dgl\n",
            "  Attempting uninstall: triton\n",
            "    Found existing installation: triton 3.2.0\n",
            "    Uninstalling triton-3.2.0:\n",
            "      Successfully uninstalled triton-3.2.0\n",
            "  Attempting uninstall: nvidia-nvtx-cu12\n",
            "    Found existing installation: nvidia-nvtx-cu12 12.4.127\n",
            "    Uninstalling nvidia-nvtx-cu12-12.4.127:\n",
            "      Successfully uninstalled nvidia-nvtx-cu12-12.4.127\n",
            "  Attempting uninstall: nvidia-nccl-cu12\n",
            "    Found existing installation: nvidia-nccl-cu12 2.21.5\n",
            "    Uninstalling nvidia-nccl-cu12-2.21.5:\n",
            "      Successfully uninstalled nvidia-nccl-cu12-2.21.5\n",
            "  Attempting uninstall: nvidia-cusparse-cu12\n",
            "    Found existing installation: nvidia-cusparse-cu12 12.5.1.3\n",
            "    Uninstalling nvidia-cusparse-cu12-12.5.1.3:\n",
            "      Successfully uninstalled nvidia-cusparse-cu12-12.5.1.3\n",
            "  Attempting uninstall: nvidia-curand-cu12\n",
            "    Found existing installation: nvidia-curand-cu12 10.3.6.82\n",
            "    Uninstalling nvidia-curand-cu12-10.3.6.82:\n",
            "      Successfully uninstalled nvidia-curand-cu12-10.3.6.82\n",
            "  Attempting uninstall: nvidia-cufft-cu12\n",
            "    Found existing installation: nvidia-cufft-cu12 11.2.3.61\n",
            "    Uninstalling nvidia-cufft-cu12-11.2.3.61:\n",
            "      Successfully uninstalled nvidia-cufft-cu12-11.2.3.61\n",
            "  Attempting uninstall: nvidia-cuda-runtime-cu12\n",
            "    Found existing installation: nvidia-cuda-runtime-cu12 12.5.82\n",
            "    Uninstalling nvidia-cuda-runtime-cu12-12.5.82:\n",
            "      Successfully uninstalled nvidia-cuda-runtime-cu12-12.5.82\n",
            "  Attempting uninstall: nvidia-cuda-nvrtc-cu12\n",
            "    Found existing installation: nvidia-cuda-nvrtc-cu12 12.5.82\n",
            "    Uninstalling nvidia-cuda-nvrtc-cu12-12.5.82:\n",
            "      Successfully uninstalled nvidia-cuda-nvrtc-cu12-12.5.82\n",
            "  Attempting uninstall: nvidia-cuda-cupti-cu12\n",
            "    Found existing installation: nvidia-cuda-cupti-cu12 12.5.82\n",
            "    Uninstalling nvidia-cuda-cupti-cu12-12.5.82:\n",
            "      Successfully uninstalled nvidia-cuda-cupti-cu12-12.5.82\n",
            "  Attempting uninstall: nvidia-cublas-cu12\n",
            "    Found existing installation: nvidia-cublas-cu12 12.5.3.2\n",
            "    Uninstalling nvidia-cublas-cu12-12.5.3.2:\n",
            "      Successfully uninstalled nvidia-cublas-cu12-12.5.3.2\n",
            "  Attempting uninstall: nvidia-cusolver-cu12\n",
            "    Found existing installation: nvidia-cusolver-cu12 11.6.3.83\n",
            "    Uninstalling nvidia-cusolver-cu12-11.6.3.83:\n",
            "      Successfully uninstalled nvidia-cusolver-cu12-11.6.3.83\n",
            "  Attempting uninstall: nvidia-cudnn-cu12\n",
            "    Found existing installation: nvidia-cudnn-cu12 9.3.0.75\n",
            "    Uninstalling nvidia-cudnn-cu12-9.3.0.75:\n",
            "      Successfully uninstalled nvidia-cudnn-cu12-9.3.0.75\n",
            "  Attempting uninstall: torch\n",
            "    Found existing installation: torch 2.6.0+cu124\n",
            "    Uninstalling torch-2.6.0+cu124:\n",
            "      Successfully uninstalled torch-2.6.0+cu124\n",
            "\u001b[31mERROR: pip's dependency resolver does not currently take into account all the packages that are installed. This behaviour is the source of the following dependency conflicts.\n",
            "torchaudio 2.6.0+cu124 requires torch==2.6.0, but you have torch 2.4.0 which is incompatible.\n",
            "torchvision 0.21.0+cu124 requires torch==2.6.0, but you have torch 2.4.0 which is incompatible.\u001b[0m\u001b[31m\n",
            "\u001b[0mSuccessfully installed dgl-2.4.0+cu124 nvidia-cublas-cu12-12.1.3.1 nvidia-cuda-cupti-cu12-12.1.105 nvidia-cuda-nvrtc-cu12-12.1.105 nvidia-cuda-runtime-cu12-12.1.105 nvidia-cudnn-cu12-9.1.0.70 nvidia-cufft-cu12-11.0.2.54 nvidia-curand-cu12-10.3.2.106 nvidia-cusolver-cu12-11.4.5.107 nvidia-cusparse-cu12-12.1.0.106 nvidia-nccl-cu12-2.20.5 nvidia-nvtx-cu12-12.1.105 torch-2.4.0 triton-3.0.0\n"
          ]
        }
      ]
    },
    {
      "cell_type": "code",
      "source": [
        "!git clone https://github.com/adithyamauryakr/CIGIN-DevaLab.git"
      ],
      "metadata": {
        "colab": {
          "base_uri": "https://localhost:8080/"
        },
        "id": "qL6Mfs9B1CWX",
        "outputId": "d0e9fcfb-5e79-45fb-dc0c-6d8c58cb0adb"
      },
      "execution_count": 2,
      "outputs": [
        {
          "output_type": "stream",
          "name": "stdout",
          "text": [
            "Cloning into 'CIGIN-DevaLab'...\n",
            "remote: Enumerating objects: 319, done.\u001b[K\n",
            "remote: Counting objects: 100% (214/214), done.\u001b[K\n",
            "remote: Compressing objects: 100% (194/194), done.\u001b[K\n",
            "remote: Total 319 (delta 159), reused 20 (delta 20), pack-reused 105 (from 1)\u001b[K\n",
            "Receiving objects: 100% (319/319), 4.45 MiB | 4.49 MiB/s, done.\n",
            "Resolving deltas: 100% (206/206), done.\n"
          ]
        }
      ]
    },
    {
      "cell_type": "code",
      "execution_count": 3,
      "metadata": {
        "id": "0mQXj_6NplgJ"
      },
      "outputs": [],
      "source": [
        "import random\n",
        "import pandas as pd\n",
        "import pickle\n",
        "import os\n",
        "import sys\n",
        "import warnings\n",
        "from collections import OrderedDict\n",
        "from copy import deepcopy\n",
        "import matplotlib.pyplot as plt\n",
        "import numpy as np\n",
        "import seaborn as sns\n",
        "\n",
        "\n",
        "from rdkit import Chem, DataStructs\n",
        "from rdkit.Chem import rdMolDescriptors as rdDesc\n",
        "from rdkit.Chem import AllChem\n",
        "from rdkit import rdBase\n",
        "from rdkit import RDLogger\n",
        "\n",
        "\n",
        "import torch\n",
        "import torch.nn as nn\n",
        "from torch.autograd import Variable\n",
        "import torch.optim as optim\n",
        "import torch.nn.functional as F\n",
        "from torch.utils import data\n"
      ]
    },
    {
      "cell_type": "code",
      "source": [
        "# prompt: mount drive\n",
        "\n",
        "from google.colab import drive\n",
        "drive.mount('/content/drive')"
      ],
      "metadata": {
        "id": "jR9TJ-5vrclj",
        "outputId": "c6920c67-f52e-4c26-a424-f764962f4e50",
        "colab": {
          "base_uri": "https://localhost:8080/"
        }
      },
      "execution_count": 5,
      "outputs": [
        {
          "output_type": "stream",
          "name": "stdout",
          "text": [
            "Mounted at /content/drive\n"
          ]
        }
      ]
    },
    {
      "cell_type": "code",
      "source": [
        "%cd CIGIN-DevaLab/CIGIN_V2/"
      ],
      "metadata": {
        "colab": {
          "base_uri": "https://localhost:8080/"
        },
        "id": "74QLFhKc1LTv",
        "outputId": "c26c9b69-309f-4354-a442-d2a721ac572e"
      },
      "execution_count": 11,
      "outputs": [
        {
          "output_type": "stream",
          "name": "stdout",
          "text": [
            "/content/CIGIN-DevaLab/CIGIN_V2\n"
          ]
        }
      ]
    },
    {
      "cell_type": "code",
      "source": [
        "%ls"
      ],
      "metadata": {
        "id": "kH9FrjL8r_ph",
        "outputId": "88b9ccad-43e3-451d-805e-9a0a118179ce",
        "colab": {
          "base_uri": "https://localhost:8080/"
        }
      },
      "execution_count": 12,
      "outputs": [
        {
          "output_type": "stream",
          "name": "stdout",
          "text": [
            " \u001b[0m\u001b[01;34mdata\u001b[0m/           main.py    \u001b[01;34mmodels\u001b[0m/              README.md   train.py\n",
            "'main copy.py'   model.py   molecular_graph.py   \u001b[01;34mruns\u001b[0m/       utils.py\n"
          ]
        }
      ]
    },
    {
      "cell_type": "code",
      "execution_count": 16,
      "metadata": {
        "id": "9CyTpA2LplgM"
      },
      "outputs": [],
      "source": [
        "# sys.path.insert(0, './CIGIN_V2/')\n",
        "from molecular_graph import *\n",
        "from models.van_GAT import CIGINGAT\n",
        "from models.van_GCN import CIGINGCN\n",
        "from models.van_GGN import CIGINGGN\n",
        "\n",
        "from models.van_GAP import CIGINGAP\n",
        "from models.van_WAS import CIGINWAS\n"
      ]
    },
    {
      "cell_type": "code",
      "execution_count": 4,
      "metadata": {
        "id": "5EQGlczxplgN"
      },
      "outputs": [],
      "source": [
        "device = \"cuda\" if torch.cuda.is_available() else \"cpu\""
      ]
    },
    {
      "cell_type": "code",
      "source": [
        "import dgl\n",
        "from utils import *"
      ],
      "metadata": {
        "id": "vLraya2oalKQ"
      },
      "execution_count": 17,
      "outputs": []
    },
    {
      "cell_type": "code",
      "source": [
        "solute = 'OCCN'\n",
        "mol = Chem.MolFromSmiles(solute)\n",
        "mol = Chem.AddHs(mol)\n",
        "solute = Chem.MolToSmiles(mol)\n",
        "solute_graphs = get_graph_from_smile(solute)\n",
        "# print('solvent',self.dataset.iloc[idx]['SolventSMILES'])\n",
        "solvent = 'OCC'\n",
        "\n",
        "mol = Chem.MolFromSmiles(solvent)\n",
        "mol = Chem.AddHs(mol)\n",
        "solvent = Chem.MolToSmiles(mol)\n",
        "\n",
        "solvent_graphs = get_graph_from_smile(solvent)\n",
        "delta_g = -9.5"
      ],
      "metadata": {
        "colab": {
          "base_uri": "https://localhost:8080/"
        },
        "id": "gTAKmPCUZRo6",
        "outputId": "c8b5facd-dc9d-46cd-9bf9-7641f1c286b9"
      },
      "execution_count": 18,
      "outputs": [
        {
          "output_type": "stream",
          "name": "stderr",
          "text": [
            "/usr/local/lib/python3.11/dist-packages/dgl/heterograph.py:92: DGLWarning: Recommend creating graphs by `dgl.graph(data)` instead of `dgl.DGLGraph(data)`.\n",
            "  dgl_warning(\n",
            "[05:25:23] DEPRECATION WARNING: please use GetValence(getExplicit=False)\n",
            "[05:25:23] DEPRECATION WARNING: please use GetValence(getExplicit=False)\n",
            "[05:25:23] DEPRECATION WARNING: please use GetValence(getExplicit=False)\n",
            "[05:25:23] DEPRECATION WARNING: please use GetValence(getExplicit=False)\n",
            "/content/CIGIN-DevaLab/CIGIN_V2/molecular_graph.py:94: UserWarning: Creating a tensor from a list of numpy.ndarrays is extremely slow. Please consider converting the list to a single numpy.ndarray with numpy.array() before converting to a tensor. (Triggered internally at ../torch/csrc/utils/tensor_new.cpp:278.)\n",
            "  G.ndata['x'] = torch.tensor(node_features)\n",
            "[05:25:23] DEPRECATION WARNING: please use GetValence(getExplicit=False)\n",
            "[05:25:23] DEPRECATION WARNING: please use GetValence(getExplicit=False)\n",
            "[05:25:23] DEPRECATION WARNING: please use GetValence(getExplicit=False)\n"
          ]
        }
      ]
    },
    {
      "cell_type": "markdown",
      "metadata": {
        "id": "KwWqpxBOplgN"
      },
      "source": [
        "## Loading the model"
      ]
    },
    {
      "cell_type": "markdown",
      "source": [
        "#CIGINGAT"
      ],
      "metadata": {
        "id": "dgP3quYitXnd"
      }
    },
    {
      "cell_type": "markdown",
      "metadata": {
        "id": "uD8rqJIIplgP"
      },
      "source": [
        "### Predicting free energy of solvation"
      ]
    },
    {
      "cell_type": "code",
      "execution_count": 20,
      "metadata": {
        "colab": {
          "base_uri": "https://localhost:8080/"
        },
        "id": "oPtYD1iFplgO",
        "outputId": "89ed266d-2b15-4a56-d137-f04ff13bb641"
      },
      "outputs": [
        {
          "output_type": "stream",
          "name": "stderr",
          "text": [
            "<ipython-input-20-055da9fd49b7>:2: FutureWarning: You are using `torch.load` with `weights_only=False` (the current default value), which uses the default pickle module implicitly. It is possible to construct malicious pickle data which will execute arbitrary code during unpickling (See https://github.com/pytorch/pytorch/blob/main/SECURITY.md#untrusted-models for more details). In a future release, the default value for `weights_only` will be flipped to `True`. This limits the functions that could be executed during unpickling. Arbitrary objects will no longer be allowed to be loaded via this mode unless they are explicitly allowlisted by the user via `torch.serialization.add_safe_globals`. We recommend you start setting `weights_only=True` for any use case where you don't have full control of the loaded file. Please open an issue on GitHub for any issues related to this experimental feature.\n",
            "  model.load_state_dict(torch.load('/content/CIGIN-DevaLab/CIGIN_V2/runs/run-cigin_gat/models/best_model.tar', map_location=device))\n"
          ]
        },
        {
          "output_type": "execute_result",
          "data": {
            "text/plain": [
              "CIGINGAT(\n",
              "  (solute_gather): GatherModel(\n",
              "    (lin0): Linear(in_features=42, out_features=42, bias=True)\n",
              "    (convs): ModuleList(\n",
              "      (0-5): 6 x GATv2Conv(\n",
              "        (fc_src): Linear(in_features=42, out_features=42, bias=True)\n",
              "        (fc_dst): Linear(in_features=42, out_features=42, bias=True)\n",
              "        (feat_drop): Dropout(p=0.0, inplace=False)\n",
              "        (attn_drop): Dropout(p=0.0, inplace=False)\n",
              "        (leaky_relu): LeakyReLU(negative_slope=0.2)\n",
              "      )\n",
              "    )\n",
              "    (message_layer): Linear(in_features=84, out_features=42, bias=True)\n",
              "  )\n",
              "  (solvent_gather): GatherModel(\n",
              "    (lin0): Linear(in_features=42, out_features=42, bias=True)\n",
              "    (convs): ModuleList(\n",
              "      (0-5): 6 x GATv2Conv(\n",
              "        (fc_src): Linear(in_features=42, out_features=42, bias=True)\n",
              "        (fc_dst): Linear(in_features=42, out_features=42, bias=True)\n",
              "        (feat_drop): Dropout(p=0.0, inplace=False)\n",
              "        (attn_drop): Dropout(p=0.0, inplace=False)\n",
              "        (leaky_relu): LeakyReLU(negative_slope=0.2)\n",
              "      )\n",
              "    )\n",
              "    (message_layer): Linear(in_features=84, out_features=42, bias=True)\n",
              "  )\n",
              "  (fc1): Linear(in_features=336, out_features=256, bias=True)\n",
              "  (fc2): Linear(in_features=256, out_features=128, bias=True)\n",
              "  (fc3): Linear(in_features=128, out_features=1, bias=True)\n",
              "  (imap): Linear(in_features=80, out_features=1, bias=True)\n",
              "  (set2set_solute): Set2Set(\n",
              "    n_iters=2\n",
              "    (lstm): LSTM(168, 84)\n",
              "  )\n",
              "  (set2set_solvent): Set2Set(\n",
              "    n_iters=2\n",
              "    (lstm): LSTM(168, 84)\n",
              "  )\n",
              ")"
            ]
          },
          "metadata": {},
          "execution_count": 20
        }
      ],
      "source": [
        "model=CIGINGAT().to(device)\n",
        "model.load_state_dict(torch.load('/content/CIGIN-DevaLab/CIGIN_V2/runs/run-cigin_gat/models/best_model.tar', map_location=device))\n",
        "model.eval()"
      ]
    },
    {
      "cell_type": "code",
      "source": [
        "from rdkit import Chem\n",
        "import torch\n",
        "import dgl\n",
        "import numpy as np\n",
        "\n",
        "# Assume you have this helper\n",
        "def smiles_to_graph(smiles):\n",
        "    mol = Chem.MolFromSmiles(smiles)\n",
        "    mol = Chem.AddHs(mol)\n",
        "    smiles = Chem.MolToSmiles(mol)\n",
        "    return get_graph_from_smile(smiles)\n",
        "\n",
        "# Your SMILES strings\n",
        "solute_smiles = \"OCCN\"         # ethanol\n",
        "solvent_smiles = \"OCC\"          # water\n",
        "\n",
        "# 1. Convert to DGL graphs\n",
        "solute_graph = smiles_to_graph(solute_smiles)\n",
        "solvent_graph = smiles_to_graph(solvent_smiles)\n",
        "\n",
        "# 2. Batch (even for a single pair, required for DGL interface)\n",
        "solute_batched = dgl.batch([solute_graph])\n",
        "solvent_batched = dgl.batch([solvent_graph])\n",
        "\n",
        "# 3. Get node count masks\n",
        "solute_len_matrix = get_len_matrix(solute_batched.batch_num_nodes().tolist())\n",
        "solvent_len_matrix = get_len_matrix(solvent_batched.batch_num_nodes().tolist())\n",
        "\n",
        "# 4. Convert len_matrix to tensors\n",
        "solute_len_matrix = torch.tensor(solute_len_matrix).float()\n",
        "solvent_len_matrix = torch.tensor(solvent_len_matrix).float()\n",
        "\n",
        "# 5. Move to GPU if necessary\n",
        "device = torch.device(\"cuda\" if torch.cuda.is_available() else \"cpu\")\n",
        "solute_batched = solute_batched.to(device)\n",
        "solvent_batched = solvent_batched.to(device)\n",
        "solute_len_matrix = solute_len_matrix.to(device)\n",
        "solvent_len_matrix = solvent_len_matrix.to(device)\n",
        "\n",
        "# 6. Model inference\n",
        "model.eval()\n",
        "with torch.no_grad():\n",
        "    prediction, interaction_map = model([solute_batched, solvent_batched,\n",
        "                                         solute_len_matrix, solvent_len_matrix])\n",
        "    print(\"Predicted ΔG_solv:\", prediction.item())\n"
      ],
      "metadata": {
        "colab": {
          "base_uri": "https://localhost:8080/"
        },
        "id": "uEdeqtQue5RH",
        "outputId": "0ad07637-5d87-415e-901e-f21d2c652a20"
      },
      "execution_count": 21,
      "outputs": [
        {
          "output_type": "stream",
          "name": "stdout",
          "text": [
            "Predicted ΔG_solv: -6.905544281005859\n"
          ]
        },
        {
          "output_type": "stream",
          "name": "stderr",
          "text": [
            "/usr/local/lib/python3.11/dist-packages/dgl/heterograph.py:92: DGLWarning: Recommend creating graphs by `dgl.graph(data)` instead of `dgl.DGLGraph(data)`.\n",
            "  dgl_warning(\n",
            "[05:29:29] DEPRECATION WARNING: please use GetValence(getExplicit=False)\n",
            "[05:29:29] DEPRECATION WARNING: please use GetValence(getExplicit=False)\n",
            "[05:29:29] DEPRECATION WARNING: please use GetValence(getExplicit=False)\n",
            "[05:29:29] DEPRECATION WARNING: please use GetValence(getExplicit=False)\n",
            "[05:29:29] DEPRECATION WARNING: please use GetValence(getExplicit=False)\n",
            "[05:29:29] DEPRECATION WARNING: please use GetValence(getExplicit=False)\n",
            "[05:29:29] DEPRECATION WARNING: please use GetValence(getExplicit=False)\n"
          ]
        }
      ]
    },
    {
      "cell_type": "markdown",
      "metadata": {
        "id": "E83IV6sRplgQ"
      },
      "source": [
        "### Analysis of interaction map"
      ]
    },
    {
      "cell_type": "code",
      "execution_count": 22,
      "metadata": {
        "id": "UF5KWvptplgQ"
      },
      "outputs": [],
      "source": [
        "# Applying min max normalization across the interaction map\n",
        "\n",
        "min_value = min(interaction_map.flatten())\n",
        "max_value = max(interaction_map.flatten())\n",
        "interaction_map = ((interaction_map-min_value)/(max_value-min_value))"
      ]
    },
    {
      "cell_type": "markdown",
      "metadata": {
        "id": "0cg7xY0gplgQ"
      },
      "source": [
        "### Solute"
      ]
    },
    {
      "cell_type": "code",
      "execution_count": null,
      "metadata": {
        "id": "_rprYkvqplgQ",
        "outputId": "979d8b6d-4719-4128-ca0b-7c5619cdc681"
      },
      "outputs": [
        {
          "data": {
            "image/png": "[encoded data removed]",
            "text/plain": [
              "<rdkit.Chem.rdchem.Mol at 0x14e100159030>"
            ]
          },
          "execution_count": 16,
          "metadata": {},
          "output_type": "execute_result"
        }
      ],
      "source": [
        "Chem.MolFromSmiles(solute) #OCCN"
      ]
    },
    {
      "cell_type": "markdown",
      "metadata": {
        "id": "N2tk0jtLplgQ"
      },
      "source": [
        "### Solvent"
      ]
    },
    {
      "cell_type": "code",
      "execution_count": null,
      "metadata": {
        "id": "y0Ch0QzrplgR",
        "outputId": "2d7b4451-de96-4b13-9df6-a13b56b89e34"
      },
      "outputs": [
        {
          "data": {
            "image/png": "[encoded data removed]",
            "text/plain": [
              "<rdkit.Chem.rdchem.Mol at 0x14e1001590d0>"
            ]
          },
          "execution_count": 17,
          "metadata": {},
          "output_type": "execute_result"
        }
      ],
      "source": [
        "Chem.MolFromSmiles(solvent) #OCC"
      ]
    },
    {
      "cell_type": "markdown",
      "metadata": {
        "id": "Gg3qNnjlplgR"
      },
      "source": [
        "### Interaction map"
      ]
    },
    {
      "cell_type": "code",
      "source": [
        "interaction_map = interaction_map.to('cpu').numpy()"
      ],
      "metadata": {
        "id": "nFKMYFWKfpkL"
      },
      "execution_count": 23,
      "outputs": []
    },
    {
      "cell_type": "code",
      "execution_count": null,
      "metadata": {
        "id": "WVLt-MC3plgR",
        "outputId": "c3d8493c-9720-40d5-971c-6c0e0d51a99b"
      },
      "outputs": [
        {
          "data": {
            "text/plain": [
              "Text(0.5, 15.0, 'Solvent')"
            ]
          },
          "execution_count": 18,
          "metadata": {},
          "output_type": "execute_result"
        },
        {
          "data": {
            "image/png": "[encoded data removed]",
            "text/plain": [
              "<Figure size 432x288 with 2 Axes>"
            ]
          },
          "metadata": {
            "needs_background": "light"
          },
          "output_type": "display_data"
        }
      ],
      "source": [
        "# vanilla\n",
        "\n",
        "sns.heatmap(interaction_map,annot=True,xticklabels=['O','C','C'],yticklabels=['O','C','C','N'],cmap='viridis')\n",
        "plt.ylabel('Solute',size='15')\n",
        "plt.xlabel('Solvent',size='15')"
      ]
    },
    {
      "cell_type": "code",
      "source": [
        "sns.heatmap(interaction_map,annot=True,xticklabels=['O','C','C'],yticklabels=['O','C','C','N'],cmap='viridis')\n",
        "plt.ylabel('Solute',size='15')\n",
        "plt.xlabel('Solvent',size='15')"
      ],
      "metadata": {
        "colab": {
          "base_uri": "https://localhost:8080/",
          "height": 479
        },
        "id": "z1GUGSi_ffxs",
        "outputId": "f3609d20-541e-4664-c387-4c60c46a1a58"
      },
      "execution_count": 24,
      "outputs": [
        {
          "output_type": "execute_result",
          "data": {
            "text/plain": [
              "Text(0.5, 23.52222222222222, 'Solvent')"
            ]
          },
          "metadata": {},
          "execution_count": 24
        },
        {
          "output_type": "display_data",
          "data": {
            "text/plain": [
              "<Figure size 640x480 with 2 Axes>"
            ],
            "image/png": "[encoded data removed]"
          },
          "metadata": {}
        }
      ]
    },
    {
      "cell_type": "markdown",
      "source": [
        "# CIGINGCN"
      ],
      "metadata": {
        "id": "ECApNJUpuAOC"
      }
    },
    {
      "cell_type": "code",
      "execution_count": 25,
      "metadata": {
        "colab": {
          "base_uri": "https://localhost:8080/"
        },
        "outputId": "29d9f538-88ff-444b-a539-fa284cad68bb",
        "id": "B1ld4wz7uTot"
      },
      "outputs": [
        {
          "output_type": "stream",
          "name": "stderr",
          "text": [
            "<ipython-input-25-b8ab05440822>:3: FutureWarning: You are using `torch.load` with `weights_only=False` (the current default value), which uses the default pickle module implicitly. It is possible to construct malicious pickle data which will execute arbitrary code during unpickling (See https://github.com/pytorch/pytorch/blob/main/SECURITY.md#untrusted-models for more details). In a future release, the default value for `weights_only` will be flipped to `True`. This limits the functions that could be executed during unpickling. Arbitrary objects will no longer be allowed to be loaded via this mode unless they are explicitly allowlisted by the user via `torch.serialization.add_safe_globals`. We recommend you start setting `weights_only=True` for any use case where you don't have full control of the loaded file. Please open an issue on GitHub for any issues related to this experimental feature.\n",
            "  model.load_state_dict(torch.load(PATH, map_location=device))\n"
          ]
        },
        {
          "output_type": "execute_result",
          "data": {
            "text/plain": [
              "CIGINGCN(\n",
              "  (solute_gather): GatherModel(\n",
              "    (initial_proj): Linear(in_features=42, out_features=42, bias=True)\n",
              "    (graph_conv): GraphConv(in=42, out=42, normalization=both, activation=<function relu at 0x7aa2c03e4720>)\n",
              "    (fallback): Sequential(\n",
              "      (0): ReLU()\n",
              "      (1): Linear(in_features=42, out_features=42, bias=True)\n",
              "    )\n",
              "    (message_layer): Linear(in_features=84, out_features=42, bias=True)\n",
              "  )\n",
              "  (solvent_gather): GatherModel(\n",
              "    (initial_proj): Linear(in_features=42, out_features=42, bias=True)\n",
              "    (graph_conv): GraphConv(in=42, out=42, normalization=both, activation=<function relu at 0x7aa2c03e4720>)\n",
              "    (fallback): Sequential(\n",
              "      (0): ReLU()\n",
              "      (1): Linear(in_features=42, out_features=42, bias=True)\n",
              "    )\n",
              "    (message_layer): Linear(in_features=84, out_features=42, bias=True)\n",
              "  )\n",
              "  (fc1): Linear(in_features=336, out_features=256, bias=True)\n",
              "  (fc2): Linear(in_features=256, out_features=128, bias=True)\n",
              "  (fc3): Linear(in_features=128, out_features=1, bias=True)\n",
              "  (imap): Linear(in_features=80, out_features=1, bias=True)\n",
              "  (set2set_solute): Set2Set(\n",
              "    n_iters=2\n",
              "    (lstm): LSTM(168, 84)\n",
              "  )\n",
              "  (set2set_solvent): Set2Set(\n",
              "    n_iters=2\n",
              "    (lstm): LSTM(168, 84)\n",
              "  )\n",
              ")"
            ]
          },
          "metadata": {},
          "execution_count": 25
        }
      ],
      "source": [
        "model=CIGINGCN().to(device)\n",
        "PATH = '/content/CIGIN-DevaLab/CIGIN_V2/runs/run-cigin_gcn/models/best_model.tar'\n",
        "model.load_state_dict(torch.load(PATH, map_location=device))\n",
        "model.eval()"
      ]
    },
    {
      "cell_type": "code",
      "source": [
        "from rdkit import Chem\n",
        "import torch\n",
        "import dgl\n",
        "import numpy as np\n",
        "\n",
        "# Assume you have this helper\n",
        "def smiles_to_graph(smiles):\n",
        "    mol = Chem.MolFromSmiles(smiles)\n",
        "    mol = Chem.AddHs(mol)\n",
        "    smiles = Chem.MolToSmiles(mol)\n",
        "    return get_graph_from_smile(smiles)\n",
        "\n",
        "# Your SMILES strings\n",
        "solute_smiles = \"OCCN\"         # ethanol\n",
        "solvent_smiles = \"OCC\"          # water\n",
        "\n",
        "# 1. Convert to DGL graphs\n",
        "solute_graph = smiles_to_graph(solute_smiles)\n",
        "solvent_graph = smiles_to_graph(solvent_smiles)\n",
        "\n",
        "# 2. Batch (even for a single pair, required for DGL interface)\n",
        "solute_batched = dgl.batch([solute_graph])\n",
        "solvent_batched = dgl.batch([solvent_graph])\n",
        "\n",
        "# 3. Get node count masks\n",
        "solute_len_matrix = get_len_matrix(solute_batched.batch_num_nodes().tolist())\n",
        "solvent_len_matrix = get_len_matrix(solvent_batched.batch_num_nodes().tolist())\n",
        "\n",
        "# 4. Convert len_matrix to tensors\n",
        "solute_len_matrix = torch.tensor(solute_len_matrix).float()\n",
        "solvent_len_matrix = torch.tensor(solvent_len_matrix).float()\n",
        "\n",
        "# 5. Move to GPU if necessary\n",
        "device = torch.device(\"cuda\" if torch.cuda.is_available() else \"cpu\")\n",
        "solute_batched = solute_batched.to(device)\n",
        "solvent_batched = solvent_batched.to(device)\n",
        "solute_len_matrix = solute_len_matrix.to(device)\n",
        "solvent_len_matrix = solvent_len_matrix.to(device)\n",
        "\n",
        "# 6. Model inference\n",
        "model.eval()\n",
        "with torch.no_grad():\n",
        "    prediction, interaction_map = model([solute_batched, solvent_batched,\n",
        "                                         solute_len_matrix, solvent_len_matrix])\n",
        "    print(\"Predicted ΔG_solv:\", prediction.item())\n"
      ],
      "metadata": {
        "colab": {
          "base_uri": "https://localhost:8080/"
        },
        "outputId": "b52391fb-213b-49f5-f1cf-b71a2a6aa6d8",
        "id": "Lwly_TZZuTot"
      },
      "execution_count": 26,
      "outputs": [
        {
          "output_type": "stream",
          "name": "stdout",
          "text": [
            "Predicted ΔG_solv: -6.941327095031738\n"
          ]
        },
        {
          "output_type": "stream",
          "name": "stderr",
          "text": [
            "/usr/local/lib/python3.11/dist-packages/dgl/heterograph.py:92: DGLWarning: Recommend creating graphs by `dgl.graph(data)` instead of `dgl.DGLGraph(data)`.\n",
            "  dgl_warning(\n",
            "[05:34:27] DEPRECATION WARNING: please use GetValence(getExplicit=False)\n",
            "[05:34:27] DEPRECATION WARNING: please use GetValence(getExplicit=False)\n",
            "[05:34:27] DEPRECATION WARNING: please use GetValence(getExplicit=False)\n",
            "[05:34:27] DEPRECATION WARNING: please use GetValence(getExplicit=False)\n",
            "[05:34:27] DEPRECATION WARNING: please use GetValence(getExplicit=False)\n",
            "[05:34:27] DEPRECATION WARNING: please use GetValence(getExplicit=False)\n",
            "[05:34:27] DEPRECATION WARNING: please use GetValence(getExplicit=False)\n"
          ]
        }
      ]
    },
    {
      "cell_type": "code",
      "execution_count": 27,
      "metadata": {
        "id": "KYNtooASuTot"
      },
      "outputs": [],
      "source": [
        "# Applying min max normalization across the interaction map\n",
        "\n",
        "min_value = min(interaction_map.flatten())\n",
        "max_value = max(interaction_map.flatten())\n",
        "interaction_map = ((interaction_map-min_value)/(max_value-min_value))"
      ]
    },
    {
      "cell_type": "code",
      "source": [
        "interaction_map = interaction_map.to('cpu').numpy()"
      ],
      "metadata": {
        "id": "V-FnV392uTou"
      },
      "execution_count": 28,
      "outputs": []
    },
    {
      "cell_type": "code",
      "source": [
        "sns.heatmap(interaction_map,annot=True,xticklabels=['O','C','C'],yticklabels=['O','C','C','N'],cmap='viridis')\n",
        "plt.ylabel('Solute',size='15')\n",
        "plt.xlabel('Solvent',size='15')"
      ],
      "metadata": {
        "colab": {
          "base_uri": "https://localhost:8080/",
          "height": 479
        },
        "outputId": "c9a31b25-c0b1-4ee2-8011-edf016d901c8",
        "id": "rr3NzRUEuTou"
      },
      "execution_count": 29,
      "outputs": [
        {
          "output_type": "execute_result",
          "data": {
            "text/plain": [
              "Text(0.5, 23.52222222222222, 'Solvent')"
            ]
          },
          "metadata": {},
          "execution_count": 29
        },
        {
          "output_type": "display_data",
          "data": {
            "text/plain": [
              "<Figure size 640x480 with 2 Axes>"
            ],
            "image/png": "[encoded data removed]"
          },
          "metadata": {}
        }
      ]
    },
    {
      "cell_type": "markdown",
      "source": [
        "#CIGINGGN"
      ],
      "metadata": {
        "id": "UU26zuo9vWXc"
      }
    },
    {
      "cell_type": "code",
      "execution_count": 30,
      "metadata": {
        "colab": {
          "base_uri": "https://localhost:8080/"
        },
        "outputId": "5270e656-0ed3-496f-fcac-6ecbb5590df5",
        "id": "Qh1cwsHsvUNO"
      },
      "outputs": [
        {
          "output_type": "stream",
          "name": "stderr",
          "text": [
            "<ipython-input-30-e8fce1c5f0ca>:3: FutureWarning: You are using `torch.load` with `weights_only=False` (the current default value), which uses the default pickle module implicitly. It is possible to construct malicious pickle data which will execute arbitrary code during unpickling (See https://github.com/pytorch/pytorch/blob/main/SECURITY.md#untrusted-models for more details). In a future release, the default value for `weights_only` will be flipped to `True`. This limits the functions that could be executed during unpickling. Arbitrary objects will no longer be allowed to be loaded via this mode unless they are explicitly allowlisted by the user via `torch.serialization.add_safe_globals`. We recommend you start setting `weights_only=True` for any use case where you don't have full control of the loaded file. Please open an issue on GitHub for any issues related to this experimental feature.\n",
            "  model.load_state_dict(torch.load(PATH, map_location=device))\n"
          ]
        },
        {
          "output_type": "execute_result",
          "data": {
            "text/plain": [
              "CIGINGGN(\n",
              "  (solute_gather): GatherModel(\n",
              "    (lin0): Linear(in_features=42, out_features=42, bias=True)\n",
              "    (conv): GatedGraphConv(\n",
              "      (linears): ModuleList(\n",
              "        (0): Linear(in_features=42, out_features=42, bias=True)\n",
              "      )\n",
              "      (gru): GRUCell(42, 42)\n",
              "    )\n",
              "    (message_layer): Linear(in_features=84, out_features=42, bias=True)\n",
              "  )\n",
              "  (solvent_gather): GatherModel(\n",
              "    (lin0): Linear(in_features=42, out_features=42, bias=True)\n",
              "    (conv): GatedGraphConv(\n",
              "      (linears): ModuleList(\n",
              "        (0): Linear(in_features=42, out_features=42, bias=True)\n",
              "      )\n",
              "      (gru): GRUCell(42, 42)\n",
              "    )\n",
              "    (message_layer): Linear(in_features=84, out_features=42, bias=True)\n",
              "  )\n",
              "  (fc1): Linear(in_features=336, out_features=256, bias=True)\n",
              "  (fc2): Linear(in_features=256, out_features=128, bias=True)\n",
              "  (fc3): Linear(in_features=128, out_features=1, bias=True)\n",
              "  (imap): Linear(in_features=80, out_features=1, bias=True)\n",
              "  (set2set_solute): Set2Set(\n",
              "    n_iters=2\n",
              "    (lstm): LSTM(168, 84)\n",
              "  )\n",
              "  (set2set_solvent): Set2Set(\n",
              "    n_iters=2\n",
              "    (lstm): LSTM(168, 84)\n",
              "  )\n",
              ")"
            ]
          },
          "metadata": {},
          "execution_count": 30
        }
      ],
      "source": [
        "model=CIGINGGN().to(device)\n",
        "PATH = '/content/CIGIN-DevaLab/CIGIN_V2/runs/run-cigin_ggn/models/best_model.tar'\n",
        "model.load_state_dict(torch.load(PATH, map_location=device))\n",
        "model.eval()"
      ]
    },
    {
      "cell_type": "code",
      "source": [
        "from rdkit import Chem\n",
        "import torch\n",
        "import dgl\n",
        "import numpy as np\n",
        "\n",
        "# Assume you have this helper\n",
        "def smiles_to_graph(smiles):\n",
        "    mol = Chem.MolFromSmiles(smiles)\n",
        "    mol = Chem.AddHs(mol)\n",
        "    smiles = Chem.MolToSmiles(mol)\n",
        "    return get_graph_from_smile(smiles)\n",
        "\n",
        "# Your SMILES strings\n",
        "solute_smiles = \"OCCN\"         # ethanol\n",
        "solvent_smiles = \"OCC\"          # water\n",
        "\n",
        "# 1. Convert to DGL graphs\n",
        "solute_graph = smiles_to_graph(solute_smiles)\n",
        "solvent_graph = smiles_to_graph(solvent_smiles)\n",
        "\n",
        "# 2. Batch (even for a single pair, required for DGL interface)\n",
        "solute_batched = dgl.batch([solute_graph])\n",
        "solvent_batched = dgl.batch([solvent_graph])\n",
        "\n",
        "# 3. Get node count masks\n",
        "solute_len_matrix = get_len_matrix(solute_batched.batch_num_nodes().tolist())\n",
        "solvent_len_matrix = get_len_matrix(solvent_batched.batch_num_nodes().tolist())\n",
        "\n",
        "# 4. Convert len_matrix to tensors\n",
        "solute_len_matrix = torch.tensor(solute_len_matrix).float()\n",
        "solvent_len_matrix = torch.tensor(solvent_len_matrix).float()\n",
        "\n",
        "# 5. Move to GPU if necessary\n",
        "device = torch.device(\"cuda\" if torch.cuda.is_available() else \"cpu\")\n",
        "solute_batched = solute_batched.to(device)\n",
        "solvent_batched = solvent_batched.to(device)\n",
        "solute_len_matrix = solute_len_matrix.to(device)\n",
        "solvent_len_matrix = solvent_len_matrix.to(device)\n",
        "\n",
        "# 6. Model inference\n",
        "model.eval()\n",
        "with torch.no_grad():\n",
        "    prediction, interaction_map = model([solute_batched, solvent_batched,\n",
        "                                         solute_len_matrix, solvent_len_matrix])\n",
        "    print(\"Predicted ΔG_solv:\", prediction.item())\n"
      ],
      "metadata": {
        "colab": {
          "base_uri": "https://localhost:8080/"
        },
        "outputId": "4ce5a2e1-a43c-40b0-8ff3-f82691e751b0",
        "id": "HN8yS5grvUNP"
      },
      "execution_count": 31,
      "outputs": [
        {
          "output_type": "stream",
          "name": "stdout",
          "text": [
            "Predicted ΔG_solv: -6.78041934967041\n"
          ]
        },
        {
          "output_type": "stream",
          "name": "stderr",
          "text": [
            "/usr/local/lib/python3.11/dist-packages/dgl/heterograph.py:92: DGLWarning: Recommend creating graphs by `dgl.graph(data)` instead of `dgl.DGLGraph(data)`.\n",
            "  dgl_warning(\n",
            "[05:37:36] DEPRECATION WARNING: please use GetValence(getExplicit=False)\n",
            "[05:37:36] DEPRECATION WARNING: please use GetValence(getExplicit=False)\n",
            "[05:37:36] DEPRECATION WARNING: please use GetValence(getExplicit=False)\n",
            "[05:37:36] DEPRECATION WARNING: please use GetValence(getExplicit=False)\n",
            "[05:37:36] DEPRECATION WARNING: please use GetValence(getExplicit=False)\n",
            "[05:37:36] DEPRECATION WARNING: please use GetValence(getExplicit=False)\n",
            "[05:37:36] DEPRECATION WARNING: please use GetValence(getExplicit=False)\n"
          ]
        }
      ]
    },
    {
      "cell_type": "code",
      "execution_count": 32,
      "metadata": {
        "id": "PFlT7jOZvUNP"
      },
      "outputs": [],
      "source": [
        "# Applying min max normalization across the interaction map\n",
        "\n",
        "min_value = min(interaction_map.flatten())\n",
        "max_value = max(interaction_map.flatten())\n",
        "interaction_map = ((interaction_map-min_value)/(max_value-min_value))"
      ]
    },
    {
      "cell_type": "code",
      "source": [
        "interaction_map = interaction_map.to('cpu').numpy()"
      ],
      "metadata": {
        "id": "7aUTEJfIvUNP"
      },
      "execution_count": 33,
      "outputs": []
    },
    {
      "cell_type": "code",
      "source": [
        "sns.heatmap(interaction_map,annot=True,xticklabels=['O','C','C'],yticklabels=['O','C','C','N'],cmap='viridis')\n",
        "plt.ylabel('Solute',size='15')\n",
        "plt.xlabel('Solvent',size='15')"
      ],
      "metadata": {
        "colab": {
          "base_uri": "https://localhost:8080/",
          "height": 479
        },
        "outputId": "2e7ddd9c-b450-4dd7-b44e-0da46ca00026",
        "id": "KtyXcI3zvUNP"
      },
      "execution_count": 34,
      "outputs": [
        {
          "output_type": "execute_result",
          "data": {
            "text/plain": [
              "Text(0.5, 23.52222222222222, 'Solvent')"
            ]
          },
          "metadata": {},
          "execution_count": 34
        },
        {
          "output_type": "display_data",
          "data": {
            "text/plain": [
              "<Figure size 640x480 with 2 Axes>"
            ],
            "image/png": "[encoded data removed]"
          },
          "metadata": {}
        }
      ]
    },
    {
      "cell_type": "markdown",
      "source": [
        "#CIGINGAP"
      ],
      "metadata": {
        "id": "bZul0Ufkvaag"
      }
    },
    {
      "cell_type": "code",
      "execution_count": null,
      "metadata": {
        "colab": {
          "base_uri": "https://localhost:8080/"
        },
        "outputId": "29d9f538-88ff-444b-a539-fa284cad68bb",
        "id": "etYbftDZvcpg"
      },
      "outputs": [
        {
          "output_type": "stream",
          "name": "stderr",
          "text": [
            "<ipython-input-25-b8ab05440822>:3: FutureWarning: You are using `torch.load` with `weights_only=False` (the current default value), which uses the default pickle module implicitly. It is possible to construct malicious pickle data which will execute arbitrary code during unpickling (See https://github.com/pytorch/pytorch/blob/main/SECURITY.md#untrusted-models for more details). In a future release, the default value for `weights_only` will be flipped to `True`. This limits the functions that could be executed during unpickling. Arbitrary objects will no longer be allowed to be loaded via this mode unless they are explicitly allowlisted by the user via `torch.serialization.add_safe_globals`. We recommend you start setting `weights_only=True` for any use case where you don't have full control of the loaded file. Please open an issue on GitHub for any issues related to this experimental feature.\n",
            "  model.load_state_dict(torch.load(PATH, map_location=device))\n"
          ]
        },
        {
          "output_type": "execute_result",
          "data": {
            "text/plain": [
              "CIGINGCN(\n",
              "  (solute_gather): GatherModel(\n",
              "    (initial_proj): Linear(in_features=42, out_features=42, bias=True)\n",
              "    (graph_conv): GraphConv(in=42, out=42, normalization=both, activation=<function relu at 0x7aa2c03e4720>)\n",
              "    (fallback): Sequential(\n",
              "      (0): ReLU()\n",
              "      (1): Linear(in_features=42, out_features=42, bias=True)\n",
              "    )\n",
              "    (message_layer): Linear(in_features=84, out_features=42, bias=True)\n",
              "  )\n",
              "  (solvent_gather): GatherModel(\n",
              "    (initial_proj): Linear(in_features=42, out_features=42, bias=True)\n",
              "    (graph_conv): GraphConv(in=42, out=42, normalization=both, activation=<function relu at 0x7aa2c03e4720>)\n",
              "    (fallback): Sequential(\n",
              "      (0): ReLU()\n",
              "      (1): Linear(in_features=42, out_features=42, bias=True)\n",
              "    )\n",
              "    (message_layer): Linear(in_features=84, out_features=42, bias=True)\n",
              "  )\n",
              "  (fc1): Linear(in_features=336, out_features=256, bias=True)\n",
              "  (fc2): Linear(in_features=256, out_features=128, bias=True)\n",
              "  (fc3): Linear(in_features=128, out_features=1, bias=True)\n",
              "  (imap): Linear(in_features=80, out_features=1, bias=True)\n",
              "  (set2set_solute): Set2Set(\n",
              "    n_iters=2\n",
              "    (lstm): LSTM(168, 84)\n",
              "  )\n",
              "  (set2set_solvent): Set2Set(\n",
              "    n_iters=2\n",
              "    (lstm): LSTM(168, 84)\n",
              "  )\n",
              ")"
            ]
          },
          "metadata": {},
          "execution_count": 25
        }
      ],
      "source": [
        "model=CIGINGAP().to(device)\n",
        "PATH = '/content/CIGIN-DevaLab/CIGIN_V2/runs/run-cigin_gcn/models/best_model.tar'\n",
        "model.load_state_dict(torch.load(PATH, map_location=device))\n",
        "model.eval()"
      ]
    },
    {
      "cell_type": "code",
      "source": [
        "from rdkit import Chem\n",
        "import torch\n",
        "import dgl\n",
        "import numpy as np\n",
        "\n",
        "# Assume you have this helper\n",
        "def smiles_to_graph(smiles):\n",
        "    mol = Chem.MolFromSmiles(smiles)\n",
        "    mol = Chem.AddHs(mol)\n",
        "    smiles = Chem.MolToSmiles(mol)\n",
        "    return get_graph_from_smile(smiles)\n",
        "\n",
        "# Your SMILES strings\n",
        "solute_smiles = \"OCCN\"         # ethanol\n",
        "solvent_smiles = \"OCC\"          # water\n",
        "\n",
        "# 1. Convert to DGL graphs\n",
        "solute_graph = smiles_to_graph(solute_smiles)\n",
        "solvent_graph = smiles_to_graph(solvent_smiles)\n",
        "\n",
        "# 2. Batch (even for a single pair, required for DGL interface)\n",
        "solute_batched = dgl.batch([solute_graph])\n",
        "solvent_batched = dgl.batch([solvent_graph])\n",
        "\n",
        "# 3. Get node count masks\n",
        "solute_len_matrix = get_len_matrix(solute_batched.batch_num_nodes().tolist())\n",
        "solvent_len_matrix = get_len_matrix(solvent_batched.batch_num_nodes().tolist())\n",
        "\n",
        "# 4. Convert len_matrix to tensors\n",
        "solute_len_matrix = torch.tensor(solute_len_matrix).float()\n",
        "solvent_len_matrix = torch.tensor(solvent_len_matrix).float()\n",
        "\n",
        "# 5. Move to GPU if necessary\n",
        "device = torch.device(\"cuda\" if torch.cuda.is_available() else \"cpu\")\n",
        "solute_batched = solute_batched.to(device)\n",
        "solvent_batched = solvent_batched.to(device)\n",
        "solute_len_matrix = solute_len_matrix.to(device)\n",
        "solvent_len_matrix = solvent_len_matrix.to(device)\n",
        "\n",
        "# 6. Model inference\n",
        "model.eval()\n",
        "with torch.no_grad():\n",
        "    prediction, interaction_map = model([solute_batched, solvent_batched,\n",
        "                                         solute_len_matrix, solvent_len_matrix])\n",
        "    print(\"Predicted ΔG_solv:\", prediction.item())\n"
      ],
      "metadata": {
        "colab": {
          "base_uri": "https://localhost:8080/"
        },
        "outputId": "b52391fb-213b-49f5-f1cf-b71a2a6aa6d8",
        "id": "EOplGExovcph"
      },
      "execution_count": null,
      "outputs": [
        {
          "output_type": "stream",
          "name": "stdout",
          "text": [
            "Predicted ΔG_solv: -6.941327095031738\n"
          ]
        },
        {
          "output_type": "stream",
          "name": "stderr",
          "text": [
            "/usr/local/lib/python3.11/dist-packages/dgl/heterograph.py:92: DGLWarning: Recommend creating graphs by `dgl.graph(data)` instead of `dgl.DGLGraph(data)`.\n",
            "  dgl_warning(\n",
            "[05:34:27] DEPRECATION WARNING: please use GetValence(getExplicit=False)\n",
            "[05:34:27] DEPRECATION WARNING: please use GetValence(getExplicit=False)\n",
            "[05:34:27] DEPRECATION WARNING: please use GetValence(getExplicit=False)\n",
            "[05:34:27] DEPRECATION WARNING: please use GetValence(getExplicit=False)\n",
            "[05:34:27] DEPRECATION WARNING: please use GetValence(getExplicit=False)\n",
            "[05:34:27] DEPRECATION WARNING: please use GetValence(getExplicit=False)\n",
            "[05:34:27] DEPRECATION WARNING: please use GetValence(getExplicit=False)\n"
          ]
        }
      ]
    },
    {
      "cell_type": "code",
      "execution_count": null,
      "metadata": {
        "id": "zruv-grcvcph"
      },
      "outputs": [],
      "source": [
        "# Applying min max normalization across the interaction map\n",
        "\n",
        "min_value = min(interaction_map.flatten())\n",
        "max_value = max(interaction_map.flatten())\n",
        "interaction_map = ((interaction_map-min_value)/(max_value-min_value))"
      ]
    },
    {
      "cell_type": "code",
      "source": [
        "interaction_map = interaction_map.to('cpu').numpy()"
      ],
      "metadata": {
        "id": "vI1PTTuevcph"
      },
      "execution_count": null,
      "outputs": []
    },
    {
      "cell_type": "code",
      "source": [
        "sns.heatmap(interaction_map,annot=True,xticklabels=['O','C','C'],yticklabels=['O','C','C','N'],cmap='viridis')\n",
        "plt.ylabel('Solute',size='15')\n",
        "plt.xlabel('Solvent',size='15')"
      ],
      "metadata": {
        "colab": {
          "base_uri": "https://localhost:8080/",
          "height": 479
        },
        "outputId": "c9a31b25-c0b1-4ee2-8011-edf016d901c8",
        "id": "OahOZXyhvcph"
      },
      "execution_count": null,
      "outputs": [
        {
          "output_type": "execute_result",
          "data": {
            "text/plain": [
              "Text(0.5, 23.52222222222222, 'Solvent')"
            ]
          },
          "metadata": {},
          "execution_count": 29
        },
        {
          "output_type": "display_data",
          "data": {
            "text/plain": [
              "<Figure size 640x480 with 2 Axes>"
            ],
            "image/png": "[encoded data removed]"
          },
          "metadata": {}
        }
      ]
    },
    {
      "cell_type": "markdown",
      "source": [
        "#CIGINWAS"
      ],
      "metadata": {
        "id": "Y_wdXdk-veL-"
      }
    },
    {
      "cell_type": "code",
      "source": [],
      "metadata": {
        "id": "l5JTd5UNvfKl"
      },
      "execution_count": null,
      "outputs": []
    },
    {
      "cell_type": "code",
      "execution_count": null,
      "metadata": {
        "colab": {
          "base_uri": "https://localhost:8080/"
        },
        "outputId": "29d9f538-88ff-444b-a539-fa284cad68bb",
        "id": "PLyWgj3QvfaX"
      },
      "outputs": [
        {
          "output_type": "stream",
          "name": "stderr",
          "text": [
            "<ipython-input-25-b8ab05440822>:3: FutureWarning: You are using `torch.load` with `weights_only=False` (the current default value), which uses the default pickle module implicitly. It is possible to construct malicious pickle data which will execute arbitrary code during unpickling (See https://github.com/pytorch/pytorch/blob/main/SECURITY.md#untrusted-models for more details). In a future release, the default value for `weights_only` will be flipped to `True`. This limits the functions that could be executed during unpickling. Arbitrary objects will no longer be allowed to be loaded via this mode unless they are explicitly allowlisted by the user via `torch.serialization.add_safe_globals`. We recommend you start setting `weights_only=True` for any use case where you don't have full control of the loaded file. Please open an issue on GitHub for any issues related to this experimental feature.\n",
            "  model.load_state_dict(torch.load(PATH, map_location=device))\n"
          ]
        },
        {
          "output_type": "execute_result",
          "data": {
            "text/plain": [
              "CIGINGCN(\n",
              "  (solute_gather): GatherModel(\n",
              "    (initial_proj): Linear(in_features=42, out_features=42, bias=True)\n",
              "    (graph_conv): GraphConv(in=42, out=42, normalization=both, activation=<function relu at 0x7aa2c03e4720>)\n",
              "    (fallback): Sequential(\n",
              "      (0): ReLU()\n",
              "      (1): Linear(in_features=42, out_features=42, bias=True)\n",
              "    )\n",
              "    (message_layer): Linear(in_features=84, out_features=42, bias=True)\n",
              "  )\n",
              "  (solvent_gather): GatherModel(\n",
              "    (initial_proj): Linear(in_features=42, out_features=42, bias=True)\n",
              "    (graph_conv): GraphConv(in=42, out=42, normalization=both, activation=<function relu at 0x7aa2c03e4720>)\n",
              "    (fallback): Sequential(\n",
              "      (0): ReLU()\n",
              "      (1): Linear(in_features=42, out_features=42, bias=True)\n",
              "    )\n",
              "    (message_layer): Linear(in_features=84, out_features=42, bias=True)\n",
              "  )\n",
              "  (fc1): Linear(in_features=336, out_features=256, bias=True)\n",
              "  (fc2): Linear(in_features=256, out_features=128, bias=True)\n",
              "  (fc3): Linear(in_features=128, out_features=1, bias=True)\n",
              "  (imap): Linear(in_features=80, out_features=1, bias=True)\n",
              "  (set2set_solute): Set2Set(\n",
              "    n_iters=2\n",
              "    (lstm): LSTM(168, 84)\n",
              "  )\n",
              "  (set2set_solvent): Set2Set(\n",
              "    n_iters=2\n",
              "    (lstm): LSTM(168, 84)\n",
              "  )\n",
              ")"
            ]
          },
          "metadata": {},
          "execution_count": 25
        }
      ],
      "source": [
        "model=CIGINGCN().to(device)\n",
        "PATH = '/content/CIGIN-DevaLab/CIGIN_V2/runs/run-cigin_gcn/models/best_model.tar'\n",
        "model.load_state_dict(torch.load(PATH, map_location=device))\n",
        "model.eval()"
      ]
    },
    {
      "cell_type": "code",
      "source": [
        "from rdkit import Chem\n",
        "import torch\n",
        "import dgl\n",
        "import numpy as np\n",
        "\n",
        "# Assume you have this helper\n",
        "def smiles_to_graph(smiles):\n",
        "    mol = Chem.MolFromSmiles(smiles)\n",
        "    mol = Chem.AddHs(mol)\n",
        "    smiles = Chem.MolToSmiles(mol)\n",
        "    return get_graph_from_smile(smiles)\n",
        "\n",
        "# Your SMILES strings\n",
        "solute_smiles = \"OCCN\"         # ethanol\n",
        "solvent_smiles = \"OCC\"          # water\n",
        "\n",
        "# 1. Convert to DGL graphs\n",
        "solute_graph = smiles_to_graph(solute_smiles)\n",
        "solvent_graph = smiles_to_graph(solvent_smiles)\n",
        "\n",
        "# 2. Batch (even for a single pair, required for DGL interface)\n",
        "solute_batched = dgl.batch([solute_graph])\n",
        "solvent_batched = dgl.batch([solvent_graph])\n",
        "\n",
        "# 3. Get node count masks\n",
        "solute_len_matrix = get_len_matrix(solute_batched.batch_num_nodes().tolist())\n",
        "solvent_len_matrix = get_len_matrix(solvent_batched.batch_num_nodes().tolist())\n",
        "\n",
        "# 4. Convert len_matrix to tensors\n",
        "solute_len_matrix = torch.tensor(solute_len_matrix).float()\n",
        "solvent_len_matrix = torch.tensor(solvent_len_matrix).float()\n",
        "\n",
        "# 5. Move to GPU if necessary\n",
        "device = torch.device(\"cuda\" if torch.cuda.is_available() else \"cpu\")\n",
        "solute_batched = solute_batched.to(device)\n",
        "solvent_batched = solvent_batched.to(device)\n",
        "solute_len_matrix = solute_len_matrix.to(device)\n",
        "solvent_len_matrix = solvent_len_matrix.to(device)\n",
        "\n",
        "# 6. Model inference\n",
        "model.eval()\n",
        "with torch.no_grad():\n",
        "    prediction, interaction_map = model([solute_batched, solvent_batched,\n",
        "                                         solute_len_matrix, solvent_len_matrix])\n",
        "    print(\"Predicted ΔG_solv:\", prediction.item())\n"
      ],
      "metadata": {
        "colab": {
          "base_uri": "https://localhost:8080/"
        },
        "outputId": "b52391fb-213b-49f5-f1cf-b71a2a6aa6d8",
        "id": "YC7ejThZvfaX"
      },
      "execution_count": null,
      "outputs": [
        {
          "output_type": "stream",
          "name": "stdout",
          "text": [
            "Predicted ΔG_solv: -6.941327095031738\n"
          ]
        },
        {
          "output_type": "stream",
          "name": "stderr",
          "text": [
            "/usr/local/lib/python3.11/dist-packages/dgl/heterograph.py:92: DGLWarning: Recommend creating graphs by `dgl.graph(data)` instead of `dgl.DGLGraph(data)`.\n",
            "  dgl_warning(\n",
            "[05:34:27] DEPRECATION WARNING: please use GetValence(getExplicit=False)\n",
            "[05:34:27] DEPRECATION WARNING: please use GetValence(getExplicit=False)\n",
            "[05:34:27] DEPRECATION WARNING: please use GetValence(getExplicit=False)\n",
            "[05:34:27] DEPRECATION WARNING: please use GetValence(getExplicit=False)\n",
            "[05:34:27] DEPRECATION WARNING: please use GetValence(getExplicit=False)\n",
            "[05:34:27] DEPRECATION WARNING: please use GetValence(getExplicit=False)\n",
            "[05:34:27] DEPRECATION WARNING: please use GetValence(getExplicit=False)\n"
          ]
        }
      ]
    },
    {
      "cell_type": "code",
      "execution_count": null,
      "metadata": {
        "id": "P67yOWatvfaX"
      },
      "outputs": [],
      "source": [
        "# Applying min max normalization across the interaction map\n",
        "\n",
        "min_value = min(interaction_map.flatten())\n",
        "max_value = max(interaction_map.flatten())\n",
        "interaction_map = ((interaction_map-min_value)/(max_value-min_value))"
      ]
    },
    {
      "cell_type": "code",
      "source": [
        "interaction_map = interaction_map.to('cpu').numpy()"
      ],
      "metadata": {
        "id": "bQeMep4-vfaX"
      },
      "execution_count": null,
      "outputs": []
    },
    {
      "cell_type": "code",
      "source": [
        "sns.heatmap(interaction_map,annot=True,xticklabels=['O','C','C'],yticklabels=['O','C','C','N'],cmap='viridis')\n",
        "plt.ylabel('Solute',size='15')\n",
        "plt.xlabel('Solvent',size='15')"
      ],
      "metadata": {
        "colab": {
          "base_uri": "https://localhost:8080/",
          "height": 479
        },
        "outputId": "c9a31b25-c0b1-4ee2-8011-edf016d901c8",
        "id": "JwpXldf9vfaX"
      },
      "execution_count": null,
      "outputs": [
        {
          "output_type": "execute_result",
          "data": {
            "text/plain": [
              "Text(0.5, 23.52222222222222, 'Solvent')"
            ]
          },
          "metadata": {},
          "execution_count": 29
        },
        {
          "output_type": "display_data",
          "data": {
            "text/plain": [
              "<Figure size 640x480 with 2 Axes>"
            ],
            "image/png": "[encoded data removed]"
          },
          "metadata": {}
        }
      ]
    }
  ],
  "metadata": {
    "kernelspec": {
      "display_name": "Python 3",
      "name": "python3"
    },
    "language_info": {
      "codemirror_mode": {
        "name": "ipython",
        "version": 3
      },
      "file_extension": ".py",
      "mimetype": "text/x-python",
      "name": "python",
      "nbconvert_exporter": "python",
      "pygments_lexer": "ipython3",
      "version": "3.7.3"
    },
    "colab": {
      "provenance": []
    }
  },
  "nbformat": 4,
  "nbformat_minor": 0
}