{
 "cells": [
  {
   "cell_type": "code",
   "execution_count": null,
   "metadata": {},
   "outputs": [],
   "source": [
    "import random\n",
    "import pandas as pd\n",
    "import pickle\n",
    "import os\n",
    "import sys\n",
    "import warnings\n",
    "from collections import OrderedDict\n",
    "from copy import deepcopy\n",
    "import matplotlib.pyplot as plt\n",
    "import numpy as np\n",
    "import seaborn as sns\n",
    "\n",
    "\n",
    "from rdkit import Chem, DataStructs\n",
    "from rdkit.Chem import rdMolDescriptors as rdDesc\n",
    "from rdkit.Chem import AllChem\n",
    "from rdkit import rdBase\n",
    "from rdkit import RDLogger\n",
    "\n",
    "\n",
    "import torch\n",
    "import torch.nn as nn\n",
    "from torch.autograd import Variable\n",
    "import torch.optim as optim\n",
    "import torch.nn.functional as F\n",
    "from torch.utils import data\n"
   ]
  },
  {
   "cell_type": "code",
   "execution_count": 11,
   "metadata": {},
   "outputs": [],
   "source": [
    "sys.path.insert(0, './scripts/')\n",
    "from molecular_graph import ConstructMolecularGraph\n",
    "from models import Cigin"
   ]
  },
  {
   "cell_type": "code",
   "execution_count": 12,
   "metadata": {},
   "outputs": [],
   "source": [
    "device = \"cuda\" if torch.cuda.is_available() else \"cpu\""
   ]
  },
  {
   "cell_type": "markdown",
   "metadata": {},
   "source": [
    "## Loading the model"
   ]
  },
  {
   "cell_type": "code",
   "execution_count": 13,
   "metadata": {},
   "outputs": [
    {
     "data": {
      "text/plain": [
       "Cigin(\n",
       "  (solute_pass): MessagePassing(\n",
       "    (U_0): Linear(in_features=90, out_features=40, bias=True)\n",
       "    (U_1): Linear(in_features=90, out_features=40, bias=True)\n",
       "    (U_2): Linear(in_features=90, out_features=40, bias=True)\n",
       "    (M_0): Linear(in_features=80, out_features=40, bias=True)\n",
       "    (M_1): Linear(in_features=80, out_features=40, bias=True)\n",
       "    (M_2): Linear(in_features=80, out_features=40, bias=True)\n",
       "  )\n",
       "  (solvent_pass): MessagePassing(\n",
       "    (U_0): Linear(in_features=90, out_features=40, bias=True)\n",
       "    (U_1): Linear(in_features=90, out_features=40, bias=True)\n",
       "    (U_2): Linear(in_features=90, out_features=40, bias=True)\n",
       "    (M_0): Linear(in_features=80, out_features=40, bias=True)\n",
       "    (M_1): Linear(in_features=80, out_features=40, bias=True)\n",
       "    (M_2): Linear(in_features=80, out_features=40, bias=True)\n",
       "  )\n",
       "  (lstm_solute): LSTM(80, 40)\n",
       "  (lstm_solvent): LSTM(80, 40)\n",
       "  (lstm_gather_solute): LSTM(320, 160)\n",
       "  (lstm_gather_solvent): LSTM(320, 160)\n",
       "  (first_layer): Linear(in_features=640, out_features=360, bias=True)\n",
       "  (second_layer): Linear(in_features=360, out_features=200, bias=True)\n",
       "  (third_layer): Linear(in_features=200, out_features=120, bias=True)\n",
       "  (fourth_layer): Linear(in_features=120, out_features=1, bias=True)\n",
       ")"
      ]
     },
     "execution_count": 13,
     "metadata": {},
     "output_type": "execute_result"
    }
   ],
   "source": [
    "model=Cigin().to(device)\n",
    "model.load_state_dict(torch.load('weights/cigin.tar'))\n",
    "model.eval()"
   ]
  },
  {
   "cell_type": "markdown",
   "metadata": {},
   "source": [
    "### Predicting free energy of solvation"
   ]
  },
  {
   "cell_type": "code",
   "execution_count": 14,
   "metadata": {},
   "outputs": [
    {
     "name": "stdout",
     "output_type": "stream",
     "text": [
      "Predicted free energy of solvation:  -7.81099796295166\n"
     ]
    }
   ],
   "source": [
    "solute = 'OCCN'\n",
    "solvent = 'OCC'\n",
    "delta_g, interaction_map =  model(solute,solvent)\n",
    "print(\"Predicted free energy of solvation: \",str(delta_g.item()))"
   ]
  },
  {
   "cell_type": "markdown",
   "metadata": {},
   "source": [
    "### Analysis of interaction map"
   ]
  },
  {
   "cell_type": "code",
   "execution_count": 15,
   "metadata": {},
   "outputs": [],
   "source": [
    "# Applying min max normalization across the interaction map\n",
    "\n",
    "min_value = min(interaction_map.flatten())\n",
    "max_value = max(interaction_map.flatten())\n",
    "interaction_map = ((interaction_map-min_value)/(max_value-min_value))"
   ]
  },
  {
   "cell_type": "markdown",
   "metadata": {},
   "source": [
    "### Solute"
   ]
  },
  {
   "cell_type": "code",
   "execution_count": 16,
   "metadata": {},
   "outputs": [
    {
     "data": {
      "image/png": "[encoded data removed]",
      "text/plain": [
       "<rdkit.Chem.rdchem.Mol at 0x14e100159030>"
      ]
     },
     "execution_count": 16,
     "metadata": {},
     "output_type": "execute_result"
    }
   ],
   "source": [
    "Chem.MolFromSmiles(solute) #OCCN"
   ]
  },
  {
   "cell_type": "markdown",
   "metadata": {},
   "source": [
    "### Solvent"
   ]
  },
  {
   "cell_type": "code",
   "execution_count": 17,
   "metadata": {},
   "outputs": [
    {
     "data": {
      "image/png": "[encoded data removed]",
      "text/plain": [
       "<rdkit.Chem.rdchem.Mol at 0x14e1001590d0>"
      ]
     },
     "execution_count": 17,
     "metadata": {},
     "output_type": "execute_result"
    }
   ],
   "source": [
    "Chem.MolFromSmiles(solvent) #OCC"
   ]
  },
  {
   "cell_type": "markdown",
   "metadata": {},
   "source": [
    "### Interaction map"
   ]
  },
  {
   "cell_type": "code",
   "execution_count": 18,
   "metadata": {},
   "outputs": [
    {
     "data": {
      "text/plain": [
       "Text(0.5, 15.0, 'Solvent')"
      ]
     },
     "execution_count": 18,
     "metadata": {},
     "output_type": "execute_result"
    },
    {
     "data": {
      "image/png": "[encoded data removed]",
      "text/plain": [
       "<Figure size 432x288 with 2 Axes>"
      ]
     },
     "metadata": {
      "needs_background": "light"
     },
     "output_type": "display_data"
    }
   ],
   "source": [
    "sns.heatmap(interaction_map,annot=True,xticklabels=['O','C','C'],yticklabels=['O','C','C','N'],cmap='viridis')\n",
    "plt.ylabel('Solute',size='15')\n",
    "plt.xlabel('Solvent',size='15')"
   ]
  },
  {
   "cell_type": "code",
   "execution_count": null,
   "metadata": {},
   "outputs": [],
   "source": []
  }
 ],
 "metadata": {
  "kernelspec": {
   "display_name": "Python 3",
   "language": "python",
   "name": "python3"
  },
  "language_info": {
   "codemirror_mode": {
    "name": "ipython",
    "version": 3
   },
   "file_extension": ".py",
   "mimetype": "text/x-python",
   "name": "python",
   "nbconvert_exporter": "python",
   "pygments_lexer": "ipython3",
   "version": "3.7.3"
  }
 },
 "nbformat": 4,
 "nbformat_minor": 2
}
